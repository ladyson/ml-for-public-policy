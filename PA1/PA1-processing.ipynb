{
 "cells": [
  {
   "cell_type": "code",
   "execution_count": 22,
   "metadata": {
    "collapsed": true
   },
   "outputs": [],
   "source": [
    "import pandas as pd\n",
    "import matplotlib.pyplot as plt\n",
    "import requests\n",
    "import numpy as np"
   ]
  },
  {
   "cell_type": "code",
   "execution_count": 14,
   "metadata": {
    "collapsed": true
   },
   "outputs": [],
   "source": [
    "df = pd.read_csv('mock_student_data.csv')"
   ]
  },
  {
   "cell_type": "markdown",
   "metadata": {},
   "source": [
    "The first task is to load the file and generate summary statistics for each field as well as probability distributions or histograms. The summary statistics should include mean, median, mode, standard deviation, as well as the number of missing values for each field.\n"
   ]
  },
  {
   "cell_type": "code",
   "execution_count": 95,
   "metadata": {
    "collapsed": true
   },
   "outputs": [],
   "source": [
    "cols = ['Age', 'GPA', 'Days_missed']"
   ]
  },
  {
   "cell_type": "code",
   "execution_count": 110,
   "metadata": {
    "collapsed": false
   },
   "outputs": [
    {
     "data": {
      "text/html": [
       "<div>\n",
       "<table border=\"1\" class=\"dataframe\">\n",
       "  <thead>\n",
       "    <tr style=\"text-align: right;\">\n",
       "      <th></th>\n",
       "      <th>ID</th>\n",
       "      <th>Age</th>\n",
       "      <th>GPA</th>\n",
       "      <th>Days_missed</th>\n",
       "    </tr>\n",
       "  </thead>\n",
       "  <tbody>\n",
       "    <tr>\n",
       "      <th>count</th>\n",
       "      <td>1000.000000</td>\n",
       "      <td>771.000000</td>\n",
       "      <td>779.000000</td>\n",
       "      <td>808.000000</td>\n",
       "    </tr>\n",
       "    <tr>\n",
       "      <th>mean</th>\n",
       "      <td>500.500000</td>\n",
       "      <td>16.996109</td>\n",
       "      <td>2.988447</td>\n",
       "      <td>18.011139</td>\n",
       "    </tr>\n",
       "    <tr>\n",
       "      <th>std</th>\n",
       "      <td>288.819436</td>\n",
       "      <td>1.458067</td>\n",
       "      <td>0.818249</td>\n",
       "      <td>9.629371</td>\n",
       "    </tr>\n",
       "    <tr>\n",
       "      <th>min</th>\n",
       "      <td>1.000000</td>\n",
       "      <td>15.000000</td>\n",
       "      <td>2.000000</td>\n",
       "      <td>2.000000</td>\n",
       "    </tr>\n",
       "    <tr>\n",
       "      <th>25%</th>\n",
       "      <td>250.750000</td>\n",
       "      <td>16.000000</td>\n",
       "      <td>2.000000</td>\n",
       "      <td>9.000000</td>\n",
       "    </tr>\n",
       "    <tr>\n",
       "      <th>50%</th>\n",
       "      <td>500.500000</td>\n",
       "      <td>17.000000</td>\n",
       "      <td>3.000000</td>\n",
       "      <td>18.000000</td>\n",
       "    </tr>\n",
       "    <tr>\n",
       "      <th>75%</th>\n",
       "      <td>750.250000</td>\n",
       "      <td>18.000000</td>\n",
       "      <td>4.000000</td>\n",
       "      <td>27.000000</td>\n",
       "    </tr>\n",
       "    <tr>\n",
       "      <th>max</th>\n",
       "      <td>1000.000000</td>\n",
       "      <td>19.000000</td>\n",
       "      <td>4.000000</td>\n",
       "      <td>34.000000</td>\n",
       "    </tr>\n",
       "  </tbody>\n",
       "</table>\n",
       "</div>"
      ],
      "text/plain": [
       "                ID         Age         GPA  Days_missed\n",
       "count  1000.000000  771.000000  779.000000   808.000000\n",
       "mean    500.500000   16.996109    2.988447    18.011139\n",
       "std     288.819436    1.458067    0.818249     9.629371\n",
       "min       1.000000   15.000000    2.000000     2.000000\n",
       "25%     250.750000   16.000000    2.000000     9.000000\n",
       "50%     500.500000   17.000000    3.000000    18.000000\n",
       "75%     750.250000   18.000000    4.000000    27.000000\n",
       "max    1000.000000   19.000000    4.000000    34.000000"
      ]
     },
     "execution_count": 110,
     "metadata": {},
     "output_type": "execute_result"
    }
   ],
   "source": [
    "df.describe()"
   ]
  },
  {
   "cell_type": "code",
   "execution_count": 111,
   "metadata": {
    "collapsed": false
   },
   "outputs": [
    {
     "data": {
      "text/html": [
       "<div>\n",
       "<table border=\"1\" class=\"dataframe\">\n",
       "  <thead>\n",
       "    <tr style=\"text-align: right;\">\n",
       "      <th></th>\n",
       "      <th>ID</th>\n",
       "      <th>First_name</th>\n",
       "      <th>Last_name</th>\n",
       "      <th>State</th>\n",
       "      <th>Gender</th>\n",
       "      <th>Age</th>\n",
       "      <th>GPA</th>\n",
       "      <th>Days_missed</th>\n",
       "      <th>Graduated</th>\n",
       "    </tr>\n",
       "  </thead>\n",
       "  <tbody>\n",
       "    <tr>\n",
       "      <th>0</th>\n",
       "      <td>NaN</td>\n",
       "      <td>Amy</td>\n",
       "      <td>Ross</td>\n",
       "      <td>Texas</td>\n",
       "      <td>Female</td>\n",
       "      <td>15</td>\n",
       "      <td>2</td>\n",
       "      <td>6</td>\n",
       "      <td>Yes</td>\n",
       "    </tr>\n",
       "    <tr>\n",
       "      <th>1</th>\n",
       "      <td>NaN</td>\n",
       "      <td>NaN</td>\n",
       "      <td>NaN</td>\n",
       "      <td>NaN</td>\n",
       "      <td>NaN</td>\n",
       "      <td>NaN</td>\n",
       "      <td>NaN</td>\n",
       "      <td>14</td>\n",
       "      <td>NaN</td>\n",
       "    </tr>\n",
       "    <tr>\n",
       "      <th>2</th>\n",
       "      <td>NaN</td>\n",
       "      <td>NaN</td>\n",
       "      <td>NaN</td>\n",
       "      <td>NaN</td>\n",
       "      <td>NaN</td>\n",
       "      <td>NaN</td>\n",
       "      <td>NaN</td>\n",
       "      <td>31</td>\n",
       "      <td>NaN</td>\n",
       "    </tr>\n",
       "  </tbody>\n",
       "</table>\n",
       "</div>"
      ],
      "text/plain": [
       "   ID First_name Last_name  State  Gender  Age  GPA  Days_missed Graduated\n",
       "0 NaN        Amy      Ross  Texas  Female   15    2            6       Yes\n",
       "1 NaN        NaN       NaN    NaN     NaN  NaN  NaN           14       NaN\n",
       "2 NaN        NaN       NaN    NaN     NaN  NaN  NaN           31       NaN"
      ]
     },
     "execution_count": 111,
     "metadata": {},
     "output_type": "execute_result"
    }
   ],
   "source": [
    "df.mode()"
   ]
  },
  {
   "cell_type": "code",
   "execution_count": 112,
   "metadata": {
    "collapsed": false
   },
   "outputs": [
    {
     "data": {
      "text/plain": [
       "ID               0\n",
       "First_name       0\n",
       "Last_name        0\n",
       "State          116\n",
       "Gender         226\n",
       "Age            229\n",
       "GPA            221\n",
       "Days_missed    192\n",
       "Graduated        0\n",
       "dtype: int64"
      ]
     },
     "execution_count": 112,
     "metadata": {},
     "output_type": "execute_result"
    }
   ],
   "source": [
    "df.isnull().sum()"
   ]
  },
  {
   "cell_type": "code",
   "execution_count": 113,
   "metadata": {
    "collapsed": false
   },
   "outputs": [],
   "source": [
    "df.hist()\n",
    "plt.savefig('histograms')"
   ]
  },
  {
   "cell_type": "markdown",
   "metadata": {},
   "source": [
    "You will notice that a lot of students are missing gender values . Your task is to infer the gender of the student based on their name. Please use the API at www.genderize.io to infer the gender of each student and generate a new data file."
   ]
  },
  {
   "cell_type": "code",
   "execution_count": 33,
   "metadata": {
    "collapsed": true
   },
   "outputs": [],
   "source": [
    "def genderize(name):\n",
    "    args = {'name[]': name}\n",
    "    r = requests.get('https://api.genderize.io/', params=args)\n",
    "    print(r)\n",
    "    print(r.json())\n",
    "    return r.json()"
   ]
  },
  {
   "cell_type": "code",
   "execution_count": 16,
   "metadata": {
    "collapsed": true
   },
   "outputs": [],
   "source": [
    "names = list(df['First_name'].unique())"
   ]
  },
  {
   "cell_type": "code",
   "execution_count": 38,
   "metadata": {
    "collapsed": false
   },
   "outputs": [
    {
     "name": "stdout",
     "output_type": "stream",
     "text": [
      "<Response [200]>\n",
      "[{'probability': '1.00', 'gender': 'male', 'name': 'Wayne', 'count': 1014}, {'probability': '0.99', 'gender': 'female', 'name': 'Ann', 'count': 1818}, {'probability': '0.99', 'gender': 'male', 'name': 'George', 'count': 2098}, {'probability': '0.98', 'gender': 'male', 'name': 'Jerry', 'count': 1031}, {'probability': '0.79', 'gender': 'female', 'name': 'Andrea', 'count': 5812}, {'probability': '1.00', 'gender': 'female', 'name': 'Annie', 'count': 1120}, {'probability': '1.00', 'gender': 'female', 'name': 'Stephanie', 'count': 4941}, {'probability': '1.00', 'gender': 'female', 'name': 'Janet', 'count': 1579}, {'probability': '1.00', 'gender': 'female', 'name': 'Betty', 'count': 840}, {'probability': '1.00', 'gender': 'male', 'name': 'Henry', 'count': 1067}]\n",
      "<Response [200]>\n",
      "[{'probability': '1.00', 'gender': 'male', 'name': 'Samuel', 'count': 1411}, {'probability': '1.00', 'gender': 'male', 'name': 'Todd', 'count': 847}, {'probability': '1.00', 'gender': 'male', 'name': 'Nicholas', 'count': 1176}, {'probability': '1.00', 'gender': 'female', 'name': 'Jacqueline', 'count': 1016}, {'probability': '1.00', 'gender': 'female', 'name': 'Phyllis', 'count': 314}, {'probability': '1.00', 'gender': 'female', 'name': 'Sandra', 'count': 4110}, {'probability': '1.00', 'gender': 'female', 'name': 'Karen', 'count': 5462}, {'probability': '1.00', 'gender': 'female', 'name': 'Lori', 'count': 1294}, {'probability': '0.99', 'gender': 'female', 'name': 'Sara', 'count': 4441}, {'probability': '1.00', 'gender': 'male', 'name': 'Benjamin', 'count': 1475}]\n",
      "<Response [200]>\n",
      "[{'probability': '0.99', 'gender': 'male', 'name': 'Ryan', 'count': 4755}, {'probability': '1.00', 'gender': 'male', 'name': 'Anthony', 'count': 3029}, {'probability': '1.00', 'gender': 'female', 'name': 'Katherine', 'count': 1414}, {'probability': '0.99', 'gender': 'male', 'name': 'Harry', 'count': 844}, {'probability': '0.97', 'gender': 'female', 'name': 'Joyce', 'count': 1089}, {'probability': '1.00', 'gender': 'male', 'name': 'Jonathan', 'count': 3702}, {'probability': '0.93', 'gender': 'male', 'name': 'Jesse', 'count': 1095}, {'probability': '1.00', 'gender': 'female', 'name': 'Susan', 'count': 3203}, {'probability': '1.00', 'gender': 'female', 'name': 'Kathleen', 'count': 972}, {'probability': '1.00', 'gender': 'male', 'name': 'Steven', 'count': 2600}]\n",
      "<Response [200]>\n",
      "[{'probability': '0.90', 'gender': 'male', 'name': 'Shawn', 'count': 1059}, {'probability': '0.98', 'gender': 'male', 'name': 'Arthur', 'count': 547}, {'probability': '1.00', 'gender': 'male', 'name': 'Harold', 'count': 364}, {'probability': '0.99', 'gender': 'female', 'name': 'Bonnie', 'count': 784}, {'probability': '0.99', 'gender': 'female', 'name': 'Doris', 'count': 455}, {'probability': '1.00', 'gender': 'female', 'name': 'Anna', 'count': 4755}, {'probability': '1.00', 'gender': 'female', 'name': 'Ruth', 'count': 1344}, {'probability': '0.99', 'gender': 'female', 'name': 'Wanda', 'count': 333}, {'probability': '1.00', 'gender': 'male', 'name': 'Jimmy', 'count': 1416}, {'probability': '1.00', 'gender': 'female', 'name': 'Marilyn', 'count': 718}]\n",
      "<Response [200]>\n",
      "[{'probability': '1.00', 'gender': 'female', 'name': 'Donna', 'count': 2227}, {'probability': '1.00', 'gender': 'female', 'name': 'Judy', 'count': 1375}, {'probability': '1.00', 'gender': 'female', 'name': 'Irene', 'count': 1333}, {'probability': '1.00', 'gender': 'male', 'name': 'Frank', 'count': 1565}, {'probability': '1.00', 'gender': 'male', 'name': 'Mark', 'count': 6178}, {'probability': '1.00', 'gender': 'male', 'name': 'Aaron', 'count': 2299}, {'probability': '1.00', 'gender': 'female', 'name': 'Christina', 'count': 2400}, {'probability': '0.99', 'gender': 'female', 'name': 'Diana', 'count': 2885}, {'probability': '1.00', 'gender': 'male', 'name': 'William', 'count': 2626}, {'probability': '0.99', 'gender': 'male', 'name': 'Joseph', 'count': 2213}]\n",
      "<Response [200]>\n",
      "[{'probability': '1.00', 'gender': 'male', 'name': 'Stephen', 'count': 2608}, {'probability': '0.99', 'gender': 'male', 'name': 'Joshua', 'count': 1570}, {'probability': '1.00', 'gender': 'male', 'name': 'Raymond', 'count': 770}, {'probability': '1.00', 'gender': 'male', 'name': 'Philip', 'count': 1097}, {'probability': '1.00', 'gender': 'male', 'name': 'Christopher', 'count': 2339}, {'probability': '1.00', 'gender': 'female', 'name': 'Sarah', 'count': 8371}, {'probability': '1.00', 'gender': 'male', 'name': 'Antonio', 'count': 2290}, {'probability': '1.00', 'gender': 'male', 'name': 'Ralph', 'count': 323}, {'probability': '1.00', 'gender': 'male', 'name': 'Patrick', 'count': 2877}, {'probability': '0.98', 'gender': 'female', 'name': 'Lois', 'count': 280}]\n",
      "<Response [200]>\n",
      "[{'probability': '1.00', 'gender': 'female', 'name': 'Melissa', 'count': 4541}, {'probability': '1.00', 'gender': 'male', 'name': 'Eric', 'count': 4110}, {'probability': '1.00', 'gender': 'male', 'name': 'Timothy', 'count': 809}, {'probability': '0.94', 'gender': 'female', 'name': 'Kelly', 'count': 3831}, {'probability': '1.00', 'gender': 'male', 'name': 'Earl', 'count': 201}, {'probability': '0.98', 'gender': 'male', 'name': 'Fred', 'count': 966}, {'probability': '1.00', 'gender': 'female', 'name': 'Emily', 'count': 3765}, {'probability': '0.99', 'gender': 'male', 'name': 'James', 'count': 6359}, {'probability': '0.99', 'gender': 'male', 'name': 'Johnny', 'count': 955}, {'probability': '0.82', 'gender': 'female', 'name': 'Joan', 'count': 1017}]\n",
      "<Response [200]>\n",
      "[{'probability': '0.99', 'gender': 'male', 'name': 'Keith', 'count': 1417}, {'probability': '1.00', 'gender': 'male', 'name': 'Craig', 'count': 1816}, {'probability': '1.00', 'gender': 'female', 'name': 'Judith', 'count': 750}, {'probability': '1.00', 'gender': 'male', 'name': 'Kenneth', 'count': 1020}, {'probability': '0.98', 'gender': 'female', 'name': 'Margaret', 'count': 1101}, {'probability': '0.99', 'gender': 'female', 'name': 'Martha', 'count': 1169}, {'probability': '0.99', 'gender': 'male', 'name': 'Albert', 'count': 723}, {'probability': '1.00', 'gender': 'female', 'name': 'Shirley', 'count': 1073}, {'probability': '1.00', 'gender': 'female', 'name': 'Heather', 'count': 3220}, {'probability': '0.99', 'gender': 'female', 'name': 'Diane', 'count': 1649}]\n",
      "<Response [200]>\n",
      "[{'probability': '0.99', 'gender': 'male', 'name': 'Jack', 'count': 1993}, {'probability': '1.00', 'gender': 'male', 'name': 'Justin', 'count': 2871}, {'probability': '1.00', 'gender': 'male', 'name': 'Edward', 'count': 1015}, {'probability': '1.00', 'gender': 'female', 'name': 'Lisa', 'count': 6395}, {'probability': '0.99', 'gender': 'female', 'name': 'Amy', 'count': 4334}, {'probability': '0.99', 'gender': 'male', 'name': 'Juan', 'count': 4584}, {'probability': '1.00', 'gender': 'female', 'name': 'Debra', 'count': 675}, {'probability': '1.00', 'gender': 'male', 'name': 'Jason', 'count': 4927}, {'probability': '1.00', 'gender': 'female', 'name': 'Mary', 'count': 4440}, {'probability': '1.00', 'gender': 'male', 'name': 'Carlos', 'count': 5149}]\n",
      "<Response [200]>\n",
      "[{'probability': '1.00', 'gender': 'female', 'name': 'Kathryn', 'count': 827}, {'probability': '1.00', 'gender': 'female', 'name': 'Nancy', 'count': 2716}, {'probability': '1.00', 'gender': 'male', 'name': 'Daniel', 'count': 8186}, {'probability': '0.98', 'gender': 'male', 'name': 'Eugene', 'count': 323}, {'probability': '0.99', 'gender': 'female', 'name': 'Lillian', 'count': 168}, {'probability': '1.00', 'gender': 'female', 'name': 'Linda', 'count': 4323}, {'probability': '0.99', 'gender': 'male', 'name': 'Jose', 'count': 5109}, {'probability': '0.99', 'gender': 'male', 'name': 'Louis', 'count': 654}, {'probability': '1.00', 'gender': 'female', 'name': 'Janice', 'count': 1052}, {'probability': '1.00', 'gender': 'female', 'name': 'Laura', 'count': 7953}]\n",
      "<Response [200]>\n",
      "[{'probability': '1.00', 'gender': 'male', 'name': 'Andrew', 'count': 5168}, {'probability': '1.00', 'gender': 'male', 'name': 'Sean', 'count': 2515}, {'probability': '1.00', 'gender': 'male', 'name': 'Bruce', 'count': 800}, {'probability': '0.99', 'gender': 'female', 'name': 'Beverly', 'count': 385}, {'probability': '1.00', 'gender': 'female', 'name': 'Elizabeth', 'count': 3510}, {'probability': '0.99', 'gender': 'male', 'name': 'Ernest', 'count': 147}, {'probability': '0.95', 'gender': 'male', 'name': 'Willie', 'count': 165}, {'probability': '1.00', 'gender': 'male', 'name': 'Alan', 'count': 2079}, {'probability': '0.99', 'gender': 'female', 'name': 'Rose', 'count': 857}, {'probability': '1.00', 'gender': 'female', 'name': 'Evelyn', 'count': 754}]\n",
      "<Response [200]>\n",
      "[{'probability': '0.95', 'gender': 'male', 'name': 'Clarence', 'count': 78}, {'probability': '1.00', 'gender': 'female', 'name': 'Anne', 'count': 2461}, {'probability': '0.99', 'gender': 'female', 'name': 'Sharon', 'count': 2760}, {'probability': '1.00', 'gender': 'male', 'name': 'Brandon', 'count': 1869}, {'probability': '0.99', 'gender': 'female', 'name': 'Maria', 'count': 8467}, {'probability': '1.00', 'gender': 'female', 'name': 'Pamela', 'count': 1518}, {'probability': '1.00', 'gender': 'female', 'name': 'Angela', 'count': 3511}, {'probability': '1.00', 'gender': 'female', 'name': 'Tina', 'count': 2195}, {'probability': '1.00', 'gender': 'male', 'name': 'Matthew', 'count': 3338}, {'probability': '1.00', 'gender': 'female', 'name': 'Louise', 'count': 1791}]\n",
      "<Response [200]>\n",
      "[{'probability': '1.00', 'gender': 'male', 'name': 'Gregory', 'count': 722}, {'probability': '1.00', 'gender': 'female', 'name': 'Carolyn', 'count': 991}, {'probability': '1.00', 'gender': 'male', 'name': 'Larry', 'count': 972}, {'probability': '1.00', 'gender': 'male', 'name': 'Victor', 'count': 2244}, {'probability': '0.99', 'gender': 'male', 'name': 'John', 'count': 9931}, {'probability': '0.98', 'gender': 'male', 'name': 'Randy', 'count': 1013}, {'probability': '1.00', 'gender': 'female', 'name': 'Patricia', 'count': 3491}, {'probability': '1.00', 'gender': 'female', 'name': 'Tammy', 'count': 1378}, {'probability': '1.00', 'gender': 'male', 'name': 'Brian', 'count': 4600}, {'probability': '1.00', 'gender': 'male', 'name': 'Walter', 'count': 864}]\n",
      "<Response [200]>\n",
      "[{'probability': '1.00', 'gender': 'female', 'name': 'Cheryl', 'count': 1628}, {'probability': '0.99', 'gender': 'male', 'name': 'Jeremy', 'count': 2160}, {'probability': '1.00', 'gender': 'male', 'name': 'Gary', 'count': 2132}, {'probability': '1.00', 'gender': 'male', 'name': 'Peter', 'count': 4373}, {'probability': '0.53', 'gender': 'female', 'name': 'Jean', 'count': 1523}, {'probability': '0.99', 'gender': 'female', 'name': 'Frances', 'count': 431}, {'probability': '0.59', 'gender': 'female', 'name': 'Robin', 'count': 1628}, {'probability': '1.00', 'gender': 'female', 'name': 'Catherine', 'count': 2383}, {'probability': '0.78', 'gender': 'male', 'name': 'Terry', 'count': 1429}, {'probability': '0.99', 'gender': 'female', 'name': 'Carol', 'count': 2345}]\n",
      "<Response [200]>\n",
      "[{'probability': '0.99', 'gender': 'female', 'name': 'Paula', 'count': 2298}, {'probability': '0.99', 'gender': 'female', 'name': 'Brenda', 'count': 1816}, {'probability': '1.00', 'gender': 'female', 'name': 'Gloria', 'count': 1188}, {'probability': '1.00', 'gender': 'male', 'name': 'Phillip', 'count': 463}, {'probability': '1.00', 'gender': 'female', 'name': 'Kathy', 'count': 2220}, {'probability': '1.00', 'gender': 'male', 'name': 'Ronald', 'count': 755}, {'probability': '1.00', 'gender': 'female', 'name': 'Michelle', 'count': 5658}, {'probability': '1.00', 'gender': 'male', 'name': 'Richard', 'count': 4381}, {'probability': '1.00', 'gender': 'female', 'name': 'Amanda', 'count': 4907}, {'probability': '1.00', 'gender': 'male', 'name': 'Adam', 'count': 3963}]\n",
      "<Response [200]>\n",
      "[{'probability': '1.00', 'gender': 'male', 'name': 'Carl', 'count': 929}, {'probability': '1.00', 'gender': 'male', 'name': 'Donald', 'count': 493}, {'probability': '1.00', 'gender': 'female', 'name': 'Denise', 'count': 1844}, {'probability': '0.96', 'gender': 'male', 'name': 'Bobby', 'count': 745}, {'probability': '0.99', 'gender': 'male', 'name': 'Dennis', 'count': 1279}, {'probability': '1.00', 'gender': 'male', 'name': 'Steve', 'count': 3965}, {'probability': '1.00', 'gender': 'female', 'name': 'Christine', 'count': 3115}, {'probability': '0.99', 'gender': 'female', 'name': 'Julia', 'count': 2171}, {'probability': '0.99', 'gender': 'female', 'name': 'Marie', 'count': 2299}, {'probability': '1.00', 'gender': 'male', 'name': 'David', 'count': 12597}]\n",
      "<Response [200]>\n",
      "[{'probability': '1.00', 'gender': 'male', 'name': 'Lawrence', 'count': 393}, {'probability': '0.99', 'gender': 'female', 'name': 'Helen', 'count': 2232}, {'probability': '1.00', 'gender': 'female', 'name': 'Virginia', 'count': 797}, {'probability': '1.00', 'gender': 'female', 'name': 'Cynthia', 'count': 1489}, {'probability': '1.00', 'gender': 'female', 'name': 'Jennifer', 'count': 6717}, {'probability': '1.00', 'gender': 'male', 'name': 'Scott', 'count': 3450}, {'probability': '1.00', 'gender': 'female', 'name': 'Kimberly', 'count': 1717}, {'probability': '1.00', 'gender': 'male', 'name': 'Jeffrey', 'count': 932}, {'probability': '0.99', 'gender': 'female', 'name': 'Deborah', 'count': 1417}, {'probability': '1.00', 'gender': 'female', 'name': 'Theresa', 'count': 834}]\n",
      "<Response [200]>\n",
      "[{'probability': '1.00', 'gender': 'female', 'name': 'Jessica', 'count': 6696}, {'probability': '1.00', 'gender': 'female', 'name': 'Mildred', 'count': 128}, {'probability': '1.00', 'gender': 'female', 'name': 'Teresa', 'count': 1631}, {'probability': '1.00', 'gender': 'male', 'name': 'Russell', 'count': 513}, {'probability': '1.00', 'gender': 'male', 'name': 'Michael', 'count': 11160}, {'probability': '0.99', 'gender': 'male', 'name': 'Roy', 'count': 651}, {'probability': '1.00', 'gender': 'female', 'name': 'Julie', 'count': 4263}, {'probability': '0.93', 'gender': 'male', 'name': 'Chris', 'count': 8631}, {'probability': '0.99', 'gender': 'male', 'name': 'Gerald', 'count': 429}, {'probability': '1.00', 'gender': 'male', 'name': 'Robert', 'count': 5245}]\n",
      "<Response [200]>\n",
      "[{'probability': '1.00', 'gender': 'female', 'name': 'Norma', 'count': 548}, {'probability': '0.90', 'gender': 'female', 'name': 'Ashley', 'count': 3897}, {'probability': '1.00', 'gender': 'male', 'name': 'Charles', 'count': 1798}, {'probability': '0.99', 'gender': 'female', 'name': 'Dorothy', 'count': 474}, {'probability': '1.00', 'gender': 'male', 'name': 'Paul', 'count': 5931}, {'probability': '1.00', 'gender': 'male', 'name': 'Martin', 'count': 3568}, {'probability': '1.00', 'gender': 'female', 'name': 'Rebecca', 'count': 3188}, {'probability': '1.00', 'gender': 'male', 'name': 'Kevin', 'count': 5362}, {'probability': '1.00', 'gender': 'female', 'name': 'Alice', 'count': 1414}, {'probability': '1.00', 'gender': 'male', 'name': 'Thomas', 'count': 3753}]\n",
      "<Response [200]>\n",
      "[{'probability': '1.00', 'gender': 'female', 'name': 'Rachel', 'count': 4021}, {'probability': '1.00', 'gender': 'female', 'name': 'Nicole', 'count': 4042}, {'probability': '0.98', 'gender': 'male', 'name': 'Billy', 'count': 913}, {'probability': '0.98', 'gender': 'male', 'name': 'Joe', 'count': 3713}, {'probability': '0.96', 'gender': 'male', 'name': 'Howard', 'count': 296}, {'probability': '1.00', 'gender': 'male', 'name': 'Roger', 'count': 1220}, {'probability': '1.00', 'gender': 'male', 'name': 'Douglas', 'count': 611}, {'probability': '1.00', 'gender': 'female', 'name': 'Barbara', 'count': 2843}, {'probability': '0.97', 'gender': 'female', 'name': 'Ruby', 'count': 388}, {'probability': '0.99', 'gender': 'female', 'name': 'Jane', 'count': 1796}]\n"
     ]
    }
   ],
   "source": [
    "x = 0\n",
    "name_dict = {}\n",
    "\n",
    "while len(name_dict) < len(names):\n",
    "    to_try = []\n",
    "    for i in range(x,x+10):\n",
    "        if i <= len(names):\n",
    "            to_try.append(names[i])\n",
    "    response = genderize(to_try)\n",
    "    for r in response:\n",
    "        name_dict[r['name']] = r['gender']\n",
    "    x += 10\n"
   ]
  },
  {
   "cell_type": "code",
   "execution_count": 51,
   "metadata": {
    "collapsed": false
   },
   "outputs": [
    {
     "data": {
      "text/plain": [
       "{'Aaron': 'male',\n",
       " 'Adam': 'male',\n",
       " 'Alan': 'male',\n",
       " 'Albert': 'male',\n",
       " 'Alice': 'female',\n",
       " 'Amanda': 'female',\n",
       " 'Amy': 'female',\n",
       " 'Andrea': 'female',\n",
       " 'Andrew': 'male',\n",
       " 'Angela': 'female',\n",
       " 'Ann': 'female',\n",
       " 'Anna': 'female',\n",
       " 'Anne': 'female',\n",
       " 'Annie': 'female',\n",
       " 'Anthony': 'male',\n",
       " 'Antonio': 'male',\n",
       " 'Arthur': 'male',\n",
       " 'Ashley': 'female',\n",
       " 'Barbara': 'female',\n",
       " 'Benjamin': 'male',\n",
       " 'Betty': 'female',\n",
       " 'Beverly': 'female',\n",
       " 'Billy': 'male',\n",
       " 'Bobby': 'male',\n",
       " 'Bonnie': 'female',\n",
       " 'Brandon': 'male',\n",
       " 'Brenda': 'female',\n",
       " 'Brian': 'male',\n",
       " 'Bruce': 'male',\n",
       " 'Carl': 'male',\n",
       " 'Carlos': 'male',\n",
       " 'Carol': 'female',\n",
       " 'Carolyn': 'female',\n",
       " 'Catherine': 'female',\n",
       " 'Charles': 'male',\n",
       " 'Cheryl': 'female',\n",
       " 'Chris': 'male',\n",
       " 'Christina': 'female',\n",
       " 'Christine': 'female',\n",
       " 'Christopher': 'male',\n",
       " 'Clarence': 'male',\n",
       " 'Craig': 'male',\n",
       " 'Cynthia': 'female',\n",
       " 'Daniel': 'male',\n",
       " 'David': 'male',\n",
       " 'Deborah': 'female',\n",
       " 'Debra': 'female',\n",
       " 'Denise': 'female',\n",
       " 'Dennis': 'male',\n",
       " 'Diana': 'female',\n",
       " 'Diane': 'female',\n",
       " 'Donald': 'male',\n",
       " 'Donna': 'female',\n",
       " 'Doris': 'female',\n",
       " 'Dorothy': 'female',\n",
       " 'Douglas': 'male',\n",
       " 'Earl': 'male',\n",
       " 'Edward': 'male',\n",
       " 'Elizabeth': 'female',\n",
       " 'Emily': 'female',\n",
       " 'Eric': 'male',\n",
       " 'Ernest': 'male',\n",
       " 'Eugene': 'male',\n",
       " 'Evelyn': 'female',\n",
       " 'Frances': 'female',\n",
       " 'Frank': 'male',\n",
       " 'Fred': 'male',\n",
       " 'Gary': 'male',\n",
       " 'George': 'male',\n",
       " 'Gerald': 'male',\n",
       " 'Gloria': 'female',\n",
       " 'Gregory': 'male',\n",
       " 'Harold': 'male',\n",
       " 'Harry': 'male',\n",
       " 'Heather': 'female',\n",
       " 'Helen': 'female',\n",
       " 'Henry': 'male',\n",
       " 'Howard': 'male',\n",
       " 'Irene': 'female',\n",
       " 'Jack': 'male',\n",
       " 'Jacqueline': 'female',\n",
       " 'James': 'male',\n",
       " 'Jane': 'female',\n",
       " 'Janet': 'female',\n",
       " 'Janice': 'female',\n",
       " 'Jason': 'male',\n",
       " 'Jean': 'female',\n",
       " 'Jeffrey': 'male',\n",
       " 'Jennifer': 'female',\n",
       " 'Jeremy': 'male',\n",
       " 'Jerry': 'male',\n",
       " 'Jesse': 'male',\n",
       " 'Jessica': 'female',\n",
       " 'Jimmy': 'male',\n",
       " 'Joan': 'female',\n",
       " 'Joe': 'male',\n",
       " 'John': 'male',\n",
       " 'Johnny': 'male',\n",
       " 'Jonathan': 'male',\n",
       " 'Jose': 'male',\n",
       " 'Joseph': 'male',\n",
       " 'Joshua': 'male',\n",
       " 'Joyce': 'female',\n",
       " 'Juan': 'male',\n",
       " 'Judith': 'female',\n",
       " 'Judy': 'female',\n",
       " 'Julia': 'female',\n",
       " 'Julie': 'female',\n",
       " 'Justin': 'male',\n",
       " 'Karen': 'female',\n",
       " 'Katherine': 'female',\n",
       " 'Kathleen': 'female',\n",
       " 'Kathryn': 'female',\n",
       " 'Kathy': 'female',\n",
       " 'Keith': 'male',\n",
       " 'Kelly': 'female',\n",
       " 'Kenneth': 'male',\n",
       " 'Kevin': 'male',\n",
       " 'Kimberly': 'female',\n",
       " 'Larry': 'male',\n",
       " 'Laura': 'female',\n",
       " 'Lawrence': 'male',\n",
       " 'Lillian': 'female',\n",
       " 'Linda': 'female',\n",
       " 'Lisa': 'female',\n",
       " 'Lois': 'female',\n",
       " 'Lori': 'female',\n",
       " 'Louis': 'male',\n",
       " 'Louise': 'female',\n",
       " 'Margaret': 'female',\n",
       " 'Maria': 'female',\n",
       " 'Marie': 'female',\n",
       " 'Marilyn': 'female',\n",
       " 'Mark': 'male',\n",
       " 'Martha': 'female',\n",
       " 'Martin': 'male',\n",
       " 'Mary': 'female',\n",
       " 'Matthew': 'male',\n",
       " 'Melissa': 'female',\n",
       " 'Michael': 'male',\n",
       " 'Michelle': 'female',\n",
       " 'Mildred': 'female',\n",
       " 'Nancy': 'female',\n",
       " 'Nicholas': 'male',\n",
       " 'Nicole': 'female',\n",
       " 'Norma': 'female',\n",
       " 'Pamela': 'female',\n",
       " 'Patricia': 'female',\n",
       " 'Patrick': 'male',\n",
       " 'Paul': 'male',\n",
       " 'Paula': 'female',\n",
       " 'Peter': 'male',\n",
       " 'Philip': 'male',\n",
       " 'Phillip': 'male',\n",
       " 'Phyllis': 'female',\n",
       " 'Rachel': 'female',\n",
       " 'Ralph': 'male',\n",
       " 'Randy': 'male',\n",
       " 'Raymond': 'male',\n",
       " 'Rebecca': 'female',\n",
       " 'Richard': 'male',\n",
       " 'Robert': 'male',\n",
       " 'Robin': 'female',\n",
       " 'Roger': 'male',\n",
       " 'Ronald': 'male',\n",
       " 'Rose': 'female',\n",
       " 'Roy': 'male',\n",
       " 'Ruby': 'female',\n",
       " 'Russell': 'male',\n",
       " 'Ruth': 'female',\n",
       " 'Ryan': 'male',\n",
       " 'Samuel': 'male',\n",
       " 'Sandra': 'female',\n",
       " 'Sara': 'female',\n",
       " 'Sarah': 'female',\n",
       " 'Scott': 'male',\n",
       " 'Sean': 'male',\n",
       " 'Sharon': 'female',\n",
       " 'Shawn': 'male',\n",
       " 'Shirley': 'female',\n",
       " 'Stephanie': 'female',\n",
       " 'Stephen': 'male',\n",
       " 'Steve': 'male',\n",
       " 'Steven': 'male',\n",
       " 'Susan': 'female',\n",
       " 'Tammy': 'female',\n",
       " 'Teresa': 'female',\n",
       " 'Terry': 'male',\n",
       " 'Theresa': 'female',\n",
       " 'Thomas': 'male',\n",
       " 'Timothy': 'male',\n",
       " 'Tina': 'female',\n",
       " 'Todd': 'male',\n",
       " 'Victor': 'male',\n",
       " 'Virginia': 'female',\n",
       " 'Walter': 'male',\n",
       " 'Wanda': 'female',\n",
       " 'Wayne': 'male',\n",
       " 'William': 'male',\n",
       " 'Willie': 'male'}"
      ]
     },
     "execution_count": 51,
     "metadata": {},
     "output_type": "execute_result"
    }
   ],
   "source": [
    "name_dict"
   ]
  },
  {
   "cell_type": "code",
   "execution_count": 41,
   "metadata": {
    "collapsed": true
   },
   "outputs": [],
   "source": [
    "def get_gender(x):\n",
    "    return name_dict[x]"
   ]
  },
  {
   "cell_type": "code",
   "execution_count": 44,
   "metadata": {
    "collapsed": false,
    "scrolled": true
   },
   "outputs": [
    {
     "data": {
      "text/plain": [
       "226"
      ]
     },
     "execution_count": 44,
     "metadata": {},
     "output_type": "execute_result"
    }
   ],
   "source": [
    "df['Gender'].isnull().sum()"
   ]
  },
  {
   "cell_type": "code",
   "execution_count": 49,
   "metadata": {
    "collapsed": false
   },
   "outputs": [],
   "source": [
    "# df['inferred_gender'] = genderize(df['First_name'])\n",
    "df_genderized = df.copy()\n",
    "df_genderized['Gender'].fillna(df_genderized['First_name'].apply(get_gender), inplace=True)"
   ]
  },
  {
   "cell_type": "code",
   "execution_count": 50,
   "metadata": {
    "collapsed": false
   },
   "outputs": [
    {
     "data": {
      "text/html": [
       "<div>\n",
       "<table border=\"1\" class=\"dataframe\">\n",
       "  <thead>\n",
       "    <tr style=\"text-align: right;\">\n",
       "      <th></th>\n",
       "      <th>ID</th>\n",
       "      <th>First_name</th>\n",
       "      <th>Last_name</th>\n",
       "      <th>State</th>\n",
       "      <th>Gender</th>\n",
       "      <th>Age</th>\n",
       "      <th>GPA</th>\n",
       "      <th>Days_missed</th>\n",
       "      <th>Graduated</th>\n",
       "    </tr>\n",
       "  </thead>\n",
       "  <tbody>\n",
       "    <tr>\n",
       "      <th>0</th>\n",
       "      <td>1</td>\n",
       "      <td>Wayne</td>\n",
       "      <td>Boyd</td>\n",
       "      <td>Florida</td>\n",
       "      <td>Male</td>\n",
       "      <td>19</td>\n",
       "      <td>NaN</td>\n",
       "      <td>9</td>\n",
       "      <td>Yes</td>\n",
       "    </tr>\n",
       "    <tr>\n",
       "      <th>1</th>\n",
       "      <td>2</td>\n",
       "      <td>Ann</td>\n",
       "      <td>Matthews</td>\n",
       "      <td>Pennsylvania</td>\n",
       "      <td>Female</td>\n",
       "      <td>18</td>\n",
       "      <td>3</td>\n",
       "      <td>NaN</td>\n",
       "      <td>Yes</td>\n",
       "    </tr>\n",
       "    <tr>\n",
       "      <th>2</th>\n",
       "      <td>3</td>\n",
       "      <td>George</td>\n",
       "      <td>Matthews</td>\n",
       "      <td>Texas</td>\n",
       "      <td>male</td>\n",
       "      <td>17</td>\n",
       "      <td>NaN</td>\n",
       "      <td>10</td>\n",
       "      <td>Yes</td>\n",
       "    </tr>\n",
       "    <tr>\n",
       "      <th>3</th>\n",
       "      <td>4</td>\n",
       "      <td>Jerry</td>\n",
       "      <td>Ramos</td>\n",
       "      <td>California</td>\n",
       "      <td>Male</td>\n",
       "      <td>15</td>\n",
       "      <td>2</td>\n",
       "      <td>28</td>\n",
       "      <td>No</td>\n",
       "    </tr>\n",
       "    <tr>\n",
       "      <th>4</th>\n",
       "      <td>5</td>\n",
       "      <td>Andrea</td>\n",
       "      <td>Carroll</td>\n",
       "      <td>North Carolina</td>\n",
       "      <td>Female</td>\n",
       "      <td>NaN</td>\n",
       "      <td>2</td>\n",
       "      <td>29</td>\n",
       "      <td>No</td>\n",
       "    </tr>\n",
       "    <tr>\n",
       "      <th>5</th>\n",
       "      <td>6</td>\n",
       "      <td>Annie</td>\n",
       "      <td>Fisher</td>\n",
       "      <td>Virginia</td>\n",
       "      <td>Female</td>\n",
       "      <td>19</td>\n",
       "      <td>NaN</td>\n",
       "      <td>5</td>\n",
       "      <td>Yes</td>\n",
       "    </tr>\n",
       "    <tr>\n",
       "      <th>6</th>\n",
       "      <td>7</td>\n",
       "      <td>Stephanie</td>\n",
       "      <td>Barnes</td>\n",
       "      <td>Oklahoma</td>\n",
       "      <td>Female</td>\n",
       "      <td>NaN</td>\n",
       "      <td>3</td>\n",
       "      <td>20</td>\n",
       "      <td>No</td>\n",
       "    </tr>\n",
       "    <tr>\n",
       "      <th>7</th>\n",
       "      <td>8</td>\n",
       "      <td>Janet</td>\n",
       "      <td>Jenkins</td>\n",
       "      <td>Louisiana</td>\n",
       "      <td>Female</td>\n",
       "      <td>15</td>\n",
       "      <td>4</td>\n",
       "      <td>20</td>\n",
       "      <td>Yes</td>\n",
       "    </tr>\n",
       "    <tr>\n",
       "      <th>8</th>\n",
       "      <td>9</td>\n",
       "      <td>Betty</td>\n",
       "      <td>Miller</td>\n",
       "      <td>NaN</td>\n",
       "      <td>female</td>\n",
       "      <td>17</td>\n",
       "      <td>3</td>\n",
       "      <td>23</td>\n",
       "      <td>No</td>\n",
       "    </tr>\n",
       "    <tr>\n",
       "      <th>9</th>\n",
       "      <td>10</td>\n",
       "      <td>Henry</td>\n",
       "      <td>Woods</td>\n",
       "      <td>Colorado</td>\n",
       "      <td>Male</td>\n",
       "      <td>19</td>\n",
       "      <td>4</td>\n",
       "      <td>14</td>\n",
       "      <td>Yes</td>\n",
       "    </tr>\n",
       "    <tr>\n",
       "      <th>10</th>\n",
       "      <td>11</td>\n",
       "      <td>Stephanie</td>\n",
       "      <td>Harris</td>\n",
       "      <td>NaN</td>\n",
       "      <td>Female</td>\n",
       "      <td>NaN</td>\n",
       "      <td>NaN</td>\n",
       "      <td>3</td>\n",
       "      <td>Yes</td>\n",
       "    </tr>\n",
       "    <tr>\n",
       "      <th>11</th>\n",
       "      <td>12</td>\n",
       "      <td>Samuel</td>\n",
       "      <td>George</td>\n",
       "      <td>Georgia</td>\n",
       "      <td>Male</td>\n",
       "      <td>15</td>\n",
       "      <td>3</td>\n",
       "      <td>13</td>\n",
       "      <td>No</td>\n",
       "    </tr>\n",
       "    <tr>\n",
       "      <th>12</th>\n",
       "      <td>13</td>\n",
       "      <td>Todd</td>\n",
       "      <td>Phillips</td>\n",
       "      <td>Indiana</td>\n",
       "      <td>male</td>\n",
       "      <td>NaN</td>\n",
       "      <td>2</td>\n",
       "      <td>3</td>\n",
       "      <td>Yes</td>\n",
       "    </tr>\n",
       "    <tr>\n",
       "      <th>13</th>\n",
       "      <td>14</td>\n",
       "      <td>Nicholas</td>\n",
       "      <td>Rice</td>\n",
       "      <td>Florida</td>\n",
       "      <td>Male</td>\n",
       "      <td>NaN</td>\n",
       "      <td>2</td>\n",
       "      <td>8</td>\n",
       "      <td>No</td>\n",
       "    </tr>\n",
       "    <tr>\n",
       "      <th>14</th>\n",
       "      <td>15</td>\n",
       "      <td>Jacqueline</td>\n",
       "      <td>Wallace</td>\n",
       "      <td>New York</td>\n",
       "      <td>Female</td>\n",
       "      <td>NaN</td>\n",
       "      <td>2</td>\n",
       "      <td>26</td>\n",
       "      <td>No</td>\n",
       "    </tr>\n",
       "  </tbody>\n",
       "</table>\n",
       "</div>"
      ],
      "text/plain": [
       "    ID  First_name Last_name           State  Gender  Age  GPA  Days_missed  \\\n",
       "0    1       Wayne      Boyd         Florida    Male   19  NaN            9   \n",
       "1    2         Ann  Matthews    Pennsylvania  Female   18    3          NaN   \n",
       "2    3      George  Matthews           Texas    male   17  NaN           10   \n",
       "3    4       Jerry     Ramos      California    Male   15    2           28   \n",
       "4    5      Andrea   Carroll  North Carolina  Female  NaN    2           29   \n",
       "5    6       Annie    Fisher        Virginia  Female   19  NaN            5   \n",
       "6    7   Stephanie    Barnes        Oklahoma  Female  NaN    3           20   \n",
       "7    8       Janet   Jenkins       Louisiana  Female   15    4           20   \n",
       "8    9       Betty    Miller             NaN  female   17    3           23   \n",
       "9   10       Henry     Woods        Colorado    Male   19    4           14   \n",
       "10  11   Stephanie    Harris             NaN  Female  NaN  NaN            3   \n",
       "11  12      Samuel    George         Georgia    Male   15    3           13   \n",
       "12  13        Todd  Phillips         Indiana    male  NaN    2            3   \n",
       "13  14    Nicholas      Rice         Florida    Male  NaN    2            8   \n",
       "14  15  Jacqueline   Wallace        New York  Female  NaN    2           26   \n",
       "\n",
       "   Graduated  \n",
       "0        Yes  \n",
       "1        Yes  \n",
       "2        Yes  \n",
       "3         No  \n",
       "4         No  \n",
       "5        Yes  \n",
       "6         No  \n",
       "7        Yes  \n",
       "8         No  \n",
       "9        Yes  \n",
       "10       Yes  \n",
       "11        No  \n",
       "12       Yes  \n",
       "13        No  \n",
       "14        No  "
      ]
     },
     "execution_count": 50,
     "metadata": {},
     "output_type": "execute_result"
    }
   ],
   "source": [
    "df_genderized.head(15)"
   ]
  },
  {
   "cell_type": "code",
   "execution_count": 107,
   "metadata": {
    "collapsed": false
   },
   "outputs": [
    {
     "ename": "NameError",
     "evalue": "name 'df_genderized' is not defined",
     "output_type": "error",
     "traceback": [
      "\u001b[0;31m---------------------------------------------------------------------------\u001b[0m",
      "\u001b[0;31mNameError\u001b[0m                                 Traceback (most recent call last)",
      "\u001b[0;32m<ipython-input-107-d6fc204bdc77>\u001b[0m in \u001b[0;36m<module>\u001b[0;34m()\u001b[0m\n\u001b[0;32m----> 1\u001b[0;31m \u001b[0mdf_genderized\u001b[0m\u001b[0;34m.\u001b[0m\u001b[0mto_csv\u001b[0m\u001b[0;34m(\u001b[0m\u001b[0;34m'genderized_data'\u001b[0m\u001b[0;34m)\u001b[0m\u001b[0;34m\u001b[0m\u001b[0m\n\u001b[0m",
      "\u001b[0;31mNameError\u001b[0m: name 'df_genderized' is not defined"
     ]
    }
   ],
   "source": [
    "df_genderized.to_csv('genderized_data')"
   ]
  },
  {
   "cell_type": "markdown",
   "metadata": {},
   "source": [
    "You will also notice that some of the other attributes are missing. Your task is to fill in the missing values for Age, GPA, and Days_missed using the following approaches:\n",
    "Fill in missing values with the mean of the values for that attribute\n",
    "Fill in missing values with a class-conditional mean (where the class is whether they graduated or not).\n",
    "Is there a better, more appropriate method for filling in the missing values? If yes, describe and implement it. "
   ]
  },
  {
   "cell_type": "code",
   "execution_count": null,
   "metadata": {
    "collapsed": true
   },
   "outputs": [],
   "source": []
  },
  {
   "cell_type": "code",
   "execution_count": 83,
   "metadata": {
    "collapsed": true
   },
   "outputs": [],
   "source": [
    "# Approach A\n",
    "df_a = df.copy()\n",
    "\n",
    "for col in cols:\n",
    "    df_a[col].fillna(df_a[col].mean(), inplace=True)\n",
    "\n",
    "df_a.to_csv('approach_a')"
   ]
  },
  {
   "cell_type": "code",
   "execution_count": 91,
   "metadata": {
    "collapsed": false
   },
   "outputs": [],
   "source": [
    "# Approach B\n",
    "df_b = df.copy()\n",
    "\n",
    "for col in cols:\n",
    "    df_b[col].fillna(df_b.groupby(\"Graduated\")[col].transform(\"mean\"), inplace=True)\n",
    "\n",
    "df_b.to_csv('approach_b')"
   ]
  }
 ],
 "metadata": {
  "kernelspec": {
   "display_name": "Python 3",
   "language": "python",
   "name": "python3"
  }
 },
 "nbformat": 4,
 "nbformat_minor": 0
}
