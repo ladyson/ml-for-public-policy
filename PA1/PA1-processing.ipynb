{
 "cells": [
  {
   "cell_type": "code",
   "execution_count": 2,
   "metadata": {
    "collapsed": true
   },
   "outputs": [],
   "source": [
    "import pandas as pd\n",
    "import matplotlib.pyplot as plt\n",
    "import requests\n",
    "import numpy as np"
   ]
  },
  {
   "cell_type": "code",
   "execution_count": 3,
   "metadata": {
    "collapsed": true
   },
   "outputs": [],
   "source": [
    "df = pd.read_csv('mock_student_data.csv', index_col = 'ID')"
   ]
  },
  {
   "cell_type": "markdown",
   "metadata": {},
   "source": [
    "The first task is to load the file and generate summary statistics for each field as well as probability distributions or histograms. The summary statistics should include mean, median, mode, standard deviation, as well as the number of missing values for each field.\n"
   ]
  },
  {
   "cell_type": "code",
   "execution_count": 58,
   "metadata": {
    "collapsed": true
   },
   "outputs": [],
   "source": [
    "cols = ['Age', 'GPA', 'Days_missed']"
   ]
  },
  {
   "cell_type": "code",
   "execution_count": 59,
   "metadata": {
    "collapsed": false
   },
   "outputs": [
    {
     "data": {
      "text/html": [
       "<div>\n",
       "<table border=\"1\" class=\"dataframe\">\n",
       "  <thead>\n",
       "    <tr style=\"text-align: right;\">\n",
       "      <th></th>\n",
       "      <th>Age</th>\n",
       "      <th>GPA</th>\n",
       "      <th>Days_missed</th>\n",
       "    </tr>\n",
       "  </thead>\n",
       "  <tbody>\n",
       "    <tr>\n",
       "      <th>count</th>\n",
       "      <td>771.000000</td>\n",
       "      <td>779.000000</td>\n",
       "      <td>808.000000</td>\n",
       "    </tr>\n",
       "    <tr>\n",
       "      <th>mean</th>\n",
       "      <td>16.996109</td>\n",
       "      <td>2.988447</td>\n",
       "      <td>18.011139</td>\n",
       "    </tr>\n",
       "    <tr>\n",
       "      <th>std</th>\n",
       "      <td>1.458067</td>\n",
       "      <td>0.818249</td>\n",
       "      <td>9.629371</td>\n",
       "    </tr>\n",
       "    <tr>\n",
       "      <th>min</th>\n",
       "      <td>15.000000</td>\n",
       "      <td>2.000000</td>\n",
       "      <td>2.000000</td>\n",
       "    </tr>\n",
       "    <tr>\n",
       "      <th>25%</th>\n",
       "      <td>16.000000</td>\n",
       "      <td>2.000000</td>\n",
       "      <td>9.000000</td>\n",
       "    </tr>\n",
       "    <tr>\n",
       "      <th>50%</th>\n",
       "      <td>17.000000</td>\n",
       "      <td>3.000000</td>\n",
       "      <td>18.000000</td>\n",
       "    </tr>\n",
       "    <tr>\n",
       "      <th>75%</th>\n",
       "      <td>18.000000</td>\n",
       "      <td>4.000000</td>\n",
       "      <td>27.000000</td>\n",
       "    </tr>\n",
       "    <tr>\n",
       "      <th>max</th>\n",
       "      <td>19.000000</td>\n",
       "      <td>4.000000</td>\n",
       "      <td>34.000000</td>\n",
       "    </tr>\n",
       "  </tbody>\n",
       "</table>\n",
       "</div>"
      ],
      "text/plain": [
       "              Age         GPA  Days_missed\n",
       "count  771.000000  779.000000   808.000000\n",
       "mean    16.996109    2.988447    18.011139\n",
       "std      1.458067    0.818249     9.629371\n",
       "min     15.000000    2.000000     2.000000\n",
       "25%     16.000000    2.000000     9.000000\n",
       "50%     17.000000    3.000000    18.000000\n",
       "75%     18.000000    4.000000    27.000000\n",
       "max     19.000000    4.000000    34.000000"
      ]
     },
     "execution_count": 59,
     "metadata": {},
     "output_type": "execute_result"
    }
   ],
   "source": [
    "df.describe()"
   ]
  },
  {
   "cell_type": "code",
   "execution_count": 4,
   "metadata": {
    "collapsed": false
   },
   "outputs": [
    {
     "data": {
      "text/plain": [
       "Age            17\n",
       "GPA             3\n",
       "Days_missed    18\n",
       "dtype: float64"
      ]
     },
     "execution_count": 4,
     "metadata": {},
     "output_type": "execute_result"
    }
   ],
   "source": [
    "df.median()"
   ]
  },
  {
   "cell_type": "code",
   "execution_count": 60,
   "metadata": {
    "collapsed": false
   },
   "outputs": [
    {
     "data": {
      "text/html": [
       "<div>\n",
       "<table border=\"1\" class=\"dataframe\">\n",
       "  <thead>\n",
       "    <tr style=\"text-align: right;\">\n",
       "      <th></th>\n",
       "      <th>First_name</th>\n",
       "      <th>Last_name</th>\n",
       "      <th>State</th>\n",
       "      <th>Gender</th>\n",
       "      <th>Age</th>\n",
       "      <th>GPA</th>\n",
       "      <th>Days_missed</th>\n",
       "      <th>Graduated</th>\n",
       "    </tr>\n",
       "  </thead>\n",
       "  <tbody>\n",
       "    <tr>\n",
       "      <th>0</th>\n",
       "      <td>Amy</td>\n",
       "      <td>Ross</td>\n",
       "      <td>Texas</td>\n",
       "      <td>Female</td>\n",
       "      <td>15</td>\n",
       "      <td>2</td>\n",
       "      <td>6</td>\n",
       "      <td>Yes</td>\n",
       "    </tr>\n",
       "    <tr>\n",
       "      <th>1</th>\n",
       "      <td>NaN</td>\n",
       "      <td>NaN</td>\n",
       "      <td>NaN</td>\n",
       "      <td>NaN</td>\n",
       "      <td>NaN</td>\n",
       "      <td>NaN</td>\n",
       "      <td>14</td>\n",
       "      <td>NaN</td>\n",
       "    </tr>\n",
       "    <tr>\n",
       "      <th>2</th>\n",
       "      <td>NaN</td>\n",
       "      <td>NaN</td>\n",
       "      <td>NaN</td>\n",
       "      <td>NaN</td>\n",
       "      <td>NaN</td>\n",
       "      <td>NaN</td>\n",
       "      <td>31</td>\n",
       "      <td>NaN</td>\n",
       "    </tr>\n",
       "  </tbody>\n",
       "</table>\n",
       "</div>"
      ],
      "text/plain": [
       "  First_name Last_name  State  Gender  Age  GPA  Days_missed Graduated\n",
       "0        Amy      Ross  Texas  Female   15    2            6       Yes\n",
       "1        NaN       NaN    NaN     NaN  NaN  NaN           14       NaN\n",
       "2        NaN       NaN    NaN     NaN  NaN  NaN           31       NaN"
      ]
     },
     "execution_count": 60,
     "metadata": {},
     "output_type": "execute_result"
    }
   ],
   "source": [
    "df.mode()"
   ]
  },
  {
   "cell_type": "code",
   "execution_count": 61,
   "metadata": {
    "collapsed": false
   },
   "outputs": [
    {
     "data": {
      "text/plain": [
       "First_name       0\n",
       "Last_name        0\n",
       "State          116\n",
       "Gender         226\n",
       "Age            229\n",
       "GPA            221\n",
       "Days_missed    192\n",
       "Graduated        0\n",
       "dtype: int64"
      ]
     },
     "execution_count": 61,
     "metadata": {},
     "output_type": "execute_result"
    }
   ],
   "source": [
    "df.isnull().sum()"
   ]
  },
  {
   "cell_type": "code",
   "execution_count": 62,
   "metadata": {
    "collapsed": false
   },
   "outputs": [],
   "source": [
    "df.hist()\n",
    "plt.savefig('histograms')"
   ]
  },
  {
   "cell_type": "markdown",
   "metadata": {},
   "source": [
    "You will notice that a lot of students are missing gender values . Your task is to infer the gender of the student based on their name. Please use the API at www.genderize.io to infer the gender of each student and generate a new data file."
   ]
  },
  {
   "cell_type": "code",
   "execution_count": 63,
   "metadata": {
    "collapsed": true
   },
   "outputs": [],
   "source": [
    "def genderize(name):\n",
    "    '''\n",
    "    Given a list of names (strings), calls the Genderize.io API\n",
    "    and returns results as Json\n",
    "    '''\n",
    "    args = {'name[]': name}\n",
    "    r = requests.get('https://api.genderize.io/', params=args)\n",
    "    return r.json()"
   ]
  },
  {
   "cell_type": "code",
   "execution_count": null,
   "metadata": {
    "collapsed": false
   },
   "outputs": [],
   "source": [
    "'''\n",
    "Get a list of the unique names from the dataset and \n",
    "create a dictionary mapping names to predicted gender using\n",
    "the Genderize API. Process names 10 at a time since that is \n",
    "the max allowed by the API.\n",
    "'''\n",
    "names = list(df['First_name'].unique())\n",
    "x = 0\n",
    "name_dict = {}\n",
    "\n",
    "while len(name_dict) < len(names):\n",
    "    to_try = []\n",
    "    for i in range(x,x+10):\n",
    "        if i <= len(names):\n",
    "            to_try.append(names[i])\n",
    "    response = genderize(to_try)\n",
    "    for r in response:\n",
    "        name_dict[r['name']] = r['gender']\n",
    "    x += 10\n"
   ]
  },
  {
   "cell_type": "code",
   "execution_count": 51,
   "metadata": {
    "collapsed": false
   },
   "outputs": [
    {
     "data": {
      "text/plain": [
       "{'Aaron': 'male',\n",
       " 'Adam': 'male',\n",
       " 'Alan': 'male',\n",
       " 'Albert': 'male',\n",
       " 'Alice': 'female',\n",
       " 'Amanda': 'female',\n",
       " 'Amy': 'female',\n",
       " 'Andrea': 'female',\n",
       " 'Andrew': 'male',\n",
       " 'Angela': 'female',\n",
       " 'Ann': 'female',\n",
       " 'Anna': 'female',\n",
       " 'Anne': 'female',\n",
       " 'Annie': 'female',\n",
       " 'Anthony': 'male',\n",
       " 'Antonio': 'male',\n",
       " 'Arthur': 'male',\n",
       " 'Ashley': 'female',\n",
       " 'Barbara': 'female',\n",
       " 'Benjamin': 'male',\n",
       " 'Betty': 'female',\n",
       " 'Beverly': 'female',\n",
       " 'Billy': 'male',\n",
       " 'Bobby': 'male',\n",
       " 'Bonnie': 'female',\n",
       " 'Brandon': 'male',\n",
       " 'Brenda': 'female',\n",
       " 'Brian': 'male',\n",
       " 'Bruce': 'male',\n",
       " 'Carl': 'male',\n",
       " 'Carlos': 'male',\n",
       " 'Carol': 'female',\n",
       " 'Carolyn': 'female',\n",
       " 'Catherine': 'female',\n",
       " 'Charles': 'male',\n",
       " 'Cheryl': 'female',\n",
       " 'Chris': 'male',\n",
       " 'Christina': 'female',\n",
       " 'Christine': 'female',\n",
       " 'Christopher': 'male',\n",
       " 'Clarence': 'male',\n",
       " 'Craig': 'male',\n",
       " 'Cynthia': 'female',\n",
       " 'Daniel': 'male',\n",
       " 'David': 'male',\n",
       " 'Deborah': 'female',\n",
       " 'Debra': 'female',\n",
       " 'Denise': 'female',\n",
       " 'Dennis': 'male',\n",
       " 'Diana': 'female',\n",
       " 'Diane': 'female',\n",
       " 'Donald': 'male',\n",
       " 'Donna': 'female',\n",
       " 'Doris': 'female',\n",
       " 'Dorothy': 'female',\n",
       " 'Douglas': 'male',\n",
       " 'Earl': 'male',\n",
       " 'Edward': 'male',\n",
       " 'Elizabeth': 'female',\n",
       " 'Emily': 'female',\n",
       " 'Eric': 'male',\n",
       " 'Ernest': 'male',\n",
       " 'Eugene': 'male',\n",
       " 'Evelyn': 'female',\n",
       " 'Frances': 'female',\n",
       " 'Frank': 'male',\n",
       " 'Fred': 'male',\n",
       " 'Gary': 'male',\n",
       " 'George': 'male',\n",
       " 'Gerald': 'male',\n",
       " 'Gloria': 'female',\n",
       " 'Gregory': 'male',\n",
       " 'Harold': 'male',\n",
       " 'Harry': 'male',\n",
       " 'Heather': 'female',\n",
       " 'Helen': 'female',\n",
       " 'Henry': 'male',\n",
       " 'Howard': 'male',\n",
       " 'Irene': 'female',\n",
       " 'Jack': 'male',\n",
       " 'Jacqueline': 'female',\n",
       " 'James': 'male',\n",
       " 'Jane': 'female',\n",
       " 'Janet': 'female',\n",
       " 'Janice': 'female',\n",
       " 'Jason': 'male',\n",
       " 'Jean': 'female',\n",
       " 'Jeffrey': 'male',\n",
       " 'Jennifer': 'female',\n",
       " 'Jeremy': 'male',\n",
       " 'Jerry': 'male',\n",
       " 'Jesse': 'male',\n",
       " 'Jessica': 'female',\n",
       " 'Jimmy': 'male',\n",
       " 'Joan': 'female',\n",
       " 'Joe': 'male',\n",
       " 'John': 'male',\n",
       " 'Johnny': 'male',\n",
       " 'Jonathan': 'male',\n",
       " 'Jose': 'male',\n",
       " 'Joseph': 'male',\n",
       " 'Joshua': 'male',\n",
       " 'Joyce': 'female',\n",
       " 'Juan': 'male',\n",
       " 'Judith': 'female',\n",
       " 'Judy': 'female',\n",
       " 'Julia': 'female',\n",
       " 'Julie': 'female',\n",
       " 'Justin': 'male',\n",
       " 'Karen': 'female',\n",
       " 'Katherine': 'female',\n",
       " 'Kathleen': 'female',\n",
       " 'Kathryn': 'female',\n",
       " 'Kathy': 'female',\n",
       " 'Keith': 'male',\n",
       " 'Kelly': 'female',\n",
       " 'Kenneth': 'male',\n",
       " 'Kevin': 'male',\n",
       " 'Kimberly': 'female',\n",
       " 'Larry': 'male',\n",
       " 'Laura': 'female',\n",
       " 'Lawrence': 'male',\n",
       " 'Lillian': 'female',\n",
       " 'Linda': 'female',\n",
       " 'Lisa': 'female',\n",
       " 'Lois': 'female',\n",
       " 'Lori': 'female',\n",
       " 'Louis': 'male',\n",
       " 'Louise': 'female',\n",
       " 'Margaret': 'female',\n",
       " 'Maria': 'female',\n",
       " 'Marie': 'female',\n",
       " 'Marilyn': 'female',\n",
       " 'Mark': 'male',\n",
       " 'Martha': 'female',\n",
       " 'Martin': 'male',\n",
       " 'Mary': 'female',\n",
       " 'Matthew': 'male',\n",
       " 'Melissa': 'female',\n",
       " 'Michael': 'male',\n",
       " 'Michelle': 'female',\n",
       " 'Mildred': 'female',\n",
       " 'Nancy': 'female',\n",
       " 'Nicholas': 'male',\n",
       " 'Nicole': 'female',\n",
       " 'Norma': 'female',\n",
       " 'Pamela': 'female',\n",
       " 'Patricia': 'female',\n",
       " 'Patrick': 'male',\n",
       " 'Paul': 'male',\n",
       " 'Paula': 'female',\n",
       " 'Peter': 'male',\n",
       " 'Philip': 'male',\n",
       " 'Phillip': 'male',\n",
       " 'Phyllis': 'female',\n",
       " 'Rachel': 'female',\n",
       " 'Ralph': 'male',\n",
       " 'Randy': 'male',\n",
       " 'Raymond': 'male',\n",
       " 'Rebecca': 'female',\n",
       " 'Richard': 'male',\n",
       " 'Robert': 'male',\n",
       " 'Robin': 'female',\n",
       " 'Roger': 'male',\n",
       " 'Ronald': 'male',\n",
       " 'Rose': 'female',\n",
       " 'Roy': 'male',\n",
       " 'Ruby': 'female',\n",
       " 'Russell': 'male',\n",
       " 'Ruth': 'female',\n",
       " 'Ryan': 'male',\n",
       " 'Samuel': 'male',\n",
       " 'Sandra': 'female',\n",
       " 'Sara': 'female',\n",
       " 'Sarah': 'female',\n",
       " 'Scott': 'male',\n",
       " 'Sean': 'male',\n",
       " 'Sharon': 'female',\n",
       " 'Shawn': 'male',\n",
       " 'Shirley': 'female',\n",
       " 'Stephanie': 'female',\n",
       " 'Stephen': 'male',\n",
       " 'Steve': 'male',\n",
       " 'Steven': 'male',\n",
       " 'Susan': 'female',\n",
       " 'Tammy': 'female',\n",
       " 'Teresa': 'female',\n",
       " 'Terry': 'male',\n",
       " 'Theresa': 'female',\n",
       " 'Thomas': 'male',\n",
       " 'Timothy': 'male',\n",
       " 'Tina': 'female',\n",
       " 'Todd': 'male',\n",
       " 'Victor': 'male',\n",
       " 'Virginia': 'female',\n",
       " 'Walter': 'male',\n",
       " 'Wanda': 'female',\n",
       " 'Wayne': 'male',\n",
       " 'William': 'male',\n",
       " 'Willie': 'male'}"
      ]
     },
     "execution_count": 51,
     "metadata": {},
     "output_type": "execute_result"
    }
   ],
   "source": [
    "name_dict"
   ]
  },
  {
   "cell_type": "code",
   "execution_count": 41,
   "metadata": {
    "collapsed": true
   },
   "outputs": [],
   "source": [
    "def get_gender(x):\n",
    "    return name_dict[x]"
   ]
  },
  {
   "cell_type": "code",
   "execution_count": 53,
   "metadata": {
    "collapsed": false
   },
   "outputs": [],
   "source": [
    "# Fill missing gender with the pre\n",
    "df_genderized = df.copy()\n",
    "df_genderized['Gender'].fillna(df_genderized['First_name'].apply(get_gender), inplace=True)"
   ]
  },
  {
   "cell_type": "code",
   "execution_count": 54,
   "metadata": {
    "collapsed": false
   },
   "outputs": [],
   "source": [
    "df_genderized.to_csv('genderized_data')"
   ]
  },
  {
   "cell_type": "markdown",
   "metadata": {},
   "source": [
    "You will also notice that some of the other attributes are missing. Your task is to fill in the missing values for Age, GPA, and Days_missed using the following approaches:\n",
    "Fill in missing values with the mean of the values for that attribute\n",
    "Fill in missing values with a class-conditional mean (where the class is whether they graduated or not).\n",
    "Is there a better, more appropriate method for filling in the missing values? If yes, describe and implement it. "
   ]
  },
  {
   "cell_type": "code",
   "execution_count": 83,
   "metadata": {
    "collapsed": true
   },
   "outputs": [],
   "source": [
    "# Approach A\n",
    "df_a = df.copy()\n",
    "\n",
    "for col in cols:\n",
    "    df_a[col].fillna(df_a[col].mean(), inplace=True)\n",
    "\n",
    "df_a.to_csv('approach_a')"
   ]
  },
  {
   "cell_type": "code",
   "execution_count": 91,
   "metadata": {
    "collapsed": false
   },
   "outputs": [],
   "source": [
    "# Approach B\n",
    "df_b = df.copy()\n",
    "\n",
    "for col in cols:\n",
    "    df_b[col].fillna(df_b.groupby(\"Graduated\")[col].transform(\"mean\"), inplace=True)\n",
    "\n",
    "df_b.to_csv('approach_b')"
   ]
  },
  {
   "cell_type": "markdown",
   "metadata": {},
   "source": [
    "An alternative way to fill in the missing values would be to use linear regression. We could create a model trained using the complete observations, and then generate predicted values for the observations with missing data. However this could be problematic in the case where observations are missing multiple values. In that case, we could use the conditional mean as a fallback method.\n"
   ]
  }
 ],
 "metadata": {
  "kernelspec": {
   "display_name": "Python 3",
   "language": "python",
   "name": "python3"
  },
  "language_info": {
   "codemirror_mode": {
    "name": "ipython",
    "version": 3
   },
   "file_extension": ".py",
   "mimetype": "text/x-python",
   "name": "python",
   "nbconvert_exporter": "python",
   "pygments_lexer": "ipython3",
   "version": "3.4.4"
  }
 },
 "nbformat": 4,
 "nbformat_minor": 0
}
