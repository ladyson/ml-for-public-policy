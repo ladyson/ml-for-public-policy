{
 "cells": [
  {
   "cell_type": "code",
   "execution_count": 1,
   "metadata": {
    "collapsed": false
   },
   "outputs": [],
   "source": [
    "import pandas as pd\n",
    "import matplotlib.pyplot as plt\n",
    "import pipeline as pl\n",
    "\n",
    "OUTCOME_VAR = 'SeriousDlqin2yrs'\n",
    "INDEX_COL = 0\n",
    "\n",
    "%matplotlib inline"
   ]
  },
  {
   "cell_type": "markdown",
   "metadata": {},
   "source": [
    "# Read in data and generate summary statistics"
   ]
  },
  {
   "cell_type": "code",
   "execution_count": 2,
   "metadata": {
    "collapsed": false
   },
   "outputs": [],
   "source": [
    "df = pl.read_data('cs-training.csv', INDEX_COL)"
   ]
  },
  {
   "cell_type": "code",
   "execution_count": 3,
   "metadata": {
    "collapsed": false
   },
   "outputs": [
    {
     "name": "stdout",
     "output_type": "stream",
     "text": [
      "### Summary Statistics ###\n",
      "SeriousDlqin2yrs\n",
      "count    150000.000000\n",
      "mean          0.066840\n",
      "std           0.249746\n",
      "min           0.000000\n",
      "25%           0.000000\n",
      "50%           0.000000\n",
      "75%           0.000000\n",
      "max           1.000000\n",
      "Name: SeriousDlqin2yrs, dtype: float64\n",
      "Null values: 0\n",
      "\n",
      "RevolvingUtilizationOfUnsecuredLines\n",
      "count    150000.000000\n",
      "mean          6.048438\n",
      "std         249.755371\n",
      "min           0.000000\n",
      "25%           0.029867\n",
      "50%           0.154181\n",
      "75%           0.559046\n",
      "max       50708.000000\n",
      "Name: RevolvingUtilizationOfUnsecuredLines, dtype: float64\n",
      "Null values: 0\n",
      "\n",
      "age\n",
      "count    150000.000000\n",
      "mean         52.295207\n",
      "std          14.771866\n",
      "min           0.000000\n",
      "25%          41.000000\n",
      "50%          52.000000\n",
      "75%          63.000000\n",
      "max         109.000000\n",
      "Name: age, dtype: float64\n",
      "Null values: 0\n",
      "\n",
      "NumberOfTime30-59DaysPastDueNotWorse\n",
      "count    150000.000000\n",
      "mean          0.421033\n",
      "std           4.192781\n",
      "min           0.000000\n",
      "25%           0.000000\n",
      "50%           0.000000\n",
      "75%           0.000000\n",
      "max          98.000000\n",
      "Name: NumberOfTime30-59DaysPastDueNotWorse, dtype: float64\n",
      "Null values: 0\n",
      "\n",
      "DebtRatio\n",
      "count    150000.000000\n",
      "mean        353.005076\n",
      "std        2037.818523\n",
      "min           0.000000\n",
      "25%           0.175074\n",
      "50%           0.366508\n",
      "75%           0.868254\n",
      "max      329664.000000\n",
      "Name: DebtRatio, dtype: float64\n",
      "Null values: 0\n",
      "\n",
      "MonthlyIncome\n",
      "count     120269.000000\n",
      "mean        6670.221237\n",
      "std        14384.674215\n",
      "min            0.000000\n",
      "25%         3400.000000\n",
      "50%         5400.000000\n",
      "75%         8249.000000\n",
      "max      3008750.000000\n",
      "Name: MonthlyIncome, dtype: float64\n",
      "Null values: 29731\n",
      "\n",
      "NumberOfOpenCreditLinesAndLoans\n",
      "count    150000.000000\n",
      "mean          8.452760\n",
      "std           5.145951\n",
      "min           0.000000\n",
      "25%           5.000000\n",
      "50%           8.000000\n",
      "75%          11.000000\n",
      "max          58.000000\n",
      "Name: NumberOfOpenCreditLinesAndLoans, dtype: float64\n",
      "Null values: 0\n",
      "\n",
      "NumberOfTimes90DaysLate\n",
      "count    150000.000000\n",
      "mean          0.265973\n",
      "std           4.169304\n",
      "min           0.000000\n",
      "25%           0.000000\n",
      "50%           0.000000\n",
      "75%           0.000000\n",
      "max          98.000000\n",
      "Name: NumberOfTimes90DaysLate, dtype: float64\n",
      "Null values: 0\n",
      "\n",
      "NumberRealEstateLoansOrLines\n",
      "count    150000.000000\n",
      "mean          1.018240\n",
      "std           1.129771\n",
      "min           0.000000\n",
      "25%           0.000000\n",
      "50%           1.000000\n",
      "75%           2.000000\n",
      "max          54.000000\n",
      "Name: NumberRealEstateLoansOrLines, dtype: float64\n",
      "Null values: 0\n",
      "\n",
      "NumberOfTime60-89DaysPastDueNotWorse\n",
      "count    150000.000000\n",
      "mean          0.240387\n",
      "std           4.155179\n",
      "min           0.000000\n",
      "25%           0.000000\n",
      "50%           0.000000\n",
      "75%           0.000000\n",
      "max          98.000000\n",
      "Name: NumberOfTime60-89DaysPastDueNotWorse, dtype: float64\n",
      "Null values: 0\n",
      "\n",
      "NumberOfDependents\n",
      "count    146076.000000\n",
      "mean          0.757222\n",
      "std           1.115086\n",
      "min           0.000000\n",
      "25%           0.000000\n",
      "50%           0.000000\n",
      "75%           1.000000\n",
      "max          20.000000\n",
      "Name: NumberOfDependents, dtype: float64\n",
      "Null values: 3924\n",
      "\n",
      "### Correlations ###\n",
      "SeriousDlqin2yrs\n",
      "SeriousDlqin2yrs                        1.000000\n",
      "RevolvingUtilizationOfUnsecuredLines   -0.001802\n",
      "age                                    -0.115386\n",
      "NumberOfTime30-59DaysPastDueNotWorse    0.125587\n",
      "DebtRatio                              -0.007602\n",
      "MonthlyIncome                          -0.019746\n",
      "NumberOfOpenCreditLinesAndLoans        -0.029669\n",
      "NumberOfTimes90DaysLate                 0.117175\n",
      "NumberRealEstateLoansOrLines           -0.007038\n",
      "NumberOfTime60-89DaysPastDueNotWorse    0.102261\n",
      "NumberOfDependents                      0.046048\n",
      "Name: SeriousDlqin2yrs, dtype: float64\n",
      "\n",
      "RevolvingUtilizationOfUnsecuredLines\n",
      "SeriousDlqin2yrs                       -0.001802\n",
      "RevolvingUtilizationOfUnsecuredLines    1.000000\n",
      "age                                    -0.005898\n",
      "NumberOfTime30-59DaysPastDueNotWorse   -0.001314\n",
      "DebtRatio                               0.003961\n",
      "MonthlyIncome                           0.007124\n",
      "NumberOfOpenCreditLinesAndLoans        -0.011281\n",
      "NumberOfTimes90DaysLate                -0.001061\n",
      "NumberRealEstateLoansOrLines            0.006235\n",
      "NumberOfTime60-89DaysPastDueNotWorse   -0.001048\n",
      "NumberOfDependents                      0.001557\n",
      "Name: RevolvingUtilizationOfUnsecuredLines, dtype: float64\n",
      "\n",
      "age\n",
      "SeriousDlqin2yrs                       -0.115386\n",
      "RevolvingUtilizationOfUnsecuredLines   -0.005898\n",
      "age                                     1.000000\n",
      "NumberOfTime30-59DaysPastDueNotWorse   -0.062995\n",
      "DebtRatio                               0.024188\n",
      "MonthlyIncome                           0.037717\n",
      "NumberOfOpenCreditLinesAndLoans         0.147705\n",
      "NumberOfTimes90DaysLate                -0.061005\n",
      "NumberRealEstateLoansOrLines            0.033150\n",
      "NumberOfTime60-89DaysPastDueNotWorse   -0.057159\n",
      "NumberOfDependents                     -0.213303\n",
      "Name: age, dtype: float64\n",
      "\n",
      "NumberOfTime30-59DaysPastDueNotWorse\n",
      "SeriousDlqin2yrs                        0.125587\n",
      "RevolvingUtilizationOfUnsecuredLines   -0.001314\n",
      "age                                    -0.062995\n",
      "NumberOfTime30-59DaysPastDueNotWorse    1.000000\n",
      "DebtRatio                              -0.006542\n",
      "MonthlyIncome                          -0.010217\n",
      "NumberOfOpenCreditLinesAndLoans        -0.055312\n",
      "NumberOfTimes90DaysLate                 0.983603\n",
      "NumberRealEstateLoansOrLines           -0.030565\n",
      "NumberOfTime60-89DaysPastDueNotWorse    0.987005\n",
      "NumberOfDependents                     -0.002680\n",
      "Name: NumberOfTime30-59DaysPastDueNotWorse, dtype: float64\n",
      "\n",
      "DebtRatio\n",
      "SeriousDlqin2yrs                       -0.007602\n",
      "RevolvingUtilizationOfUnsecuredLines    0.003961\n",
      "age                                     0.024188\n",
      "NumberOfTime30-59DaysPastDueNotWorse   -0.006542\n",
      "DebtRatio                               1.000000\n",
      "MonthlyIncome                          -0.028712\n",
      "NumberOfOpenCreditLinesAndLoans         0.049565\n",
      "NumberOfTimes90DaysLate                -0.008320\n",
      "NumberRealEstateLoansOrLines            0.120046\n",
      "NumberOfTime60-89DaysPastDueNotWorse   -0.007533\n",
      "NumberOfDependents                     -0.040673\n",
      "Name: DebtRatio, dtype: float64\n",
      "\n",
      "MonthlyIncome\n",
      "SeriousDlqin2yrs                       -0.019746\n",
      "RevolvingUtilizationOfUnsecuredLines    0.007124\n",
      "age                                     0.037717\n",
      "NumberOfTime30-59DaysPastDueNotWorse   -0.010217\n",
      "DebtRatio                              -0.028712\n",
      "MonthlyIncome                           1.000000\n",
      "NumberOfOpenCreditLinesAndLoans         0.091455\n",
      "NumberOfTimes90DaysLate                -0.012743\n",
      "NumberRealEstateLoansOrLines            0.124959\n",
      "NumberOfTime60-89DaysPastDueNotWorse   -0.011116\n",
      "NumberOfDependents                      0.062647\n",
      "Name: MonthlyIncome, dtype: float64\n",
      "\n",
      "NumberOfOpenCreditLinesAndLoans\n",
      "SeriousDlqin2yrs                       -0.029669\n",
      "RevolvingUtilizationOfUnsecuredLines   -0.011281\n",
      "age                                     0.147705\n",
      "NumberOfTime30-59DaysPastDueNotWorse   -0.055312\n",
      "DebtRatio                               0.049565\n",
      "MonthlyIncome                           0.091455\n",
      "NumberOfOpenCreditLinesAndLoans         1.000000\n",
      "NumberOfTimes90DaysLate                -0.079984\n",
      "NumberRealEstateLoansOrLines            0.433959\n",
      "NumberOfTime60-89DaysPastDueNotWorse   -0.071077\n",
      "NumberOfDependents                      0.065322\n",
      "Name: NumberOfOpenCreditLinesAndLoans, dtype: float64\n",
      "\n",
      "NumberOfTimes90DaysLate\n",
      "SeriousDlqin2yrs                        0.117175\n",
      "RevolvingUtilizationOfUnsecuredLines   -0.001061\n",
      "age                                    -0.061005\n",
      "NumberOfTime30-59DaysPastDueNotWorse    0.983603\n",
      "DebtRatio                              -0.008320\n",
      "MonthlyIncome                          -0.012743\n",
      "NumberOfOpenCreditLinesAndLoans        -0.079984\n",
      "NumberOfTimes90DaysLate                 1.000000\n",
      "NumberRealEstateLoansOrLines           -0.045205\n",
      "NumberOfTime60-89DaysPastDueNotWorse    0.992796\n",
      "NumberOfDependents                     -0.010176\n",
      "Name: NumberOfTimes90DaysLate, dtype: float64\n",
      "\n",
      "NumberRealEstateLoansOrLines\n",
      "SeriousDlqin2yrs                       -0.007038\n",
      "RevolvingUtilizationOfUnsecuredLines    0.006235\n",
      "age                                     0.033150\n",
      "NumberOfTime30-59DaysPastDueNotWorse   -0.030565\n",
      "DebtRatio                               0.120046\n",
      "MonthlyIncome                           0.124959\n",
      "NumberOfOpenCreditLinesAndLoans         0.433959\n",
      "NumberOfTimes90DaysLate                -0.045205\n",
      "NumberRealEstateLoansOrLines            1.000000\n",
      "NumberOfTime60-89DaysPastDueNotWorse   -0.039722\n",
      "NumberOfDependents                      0.124684\n",
      "Name: NumberRealEstateLoansOrLines, dtype: float64\n",
      "\n",
      "NumberOfTime60-89DaysPastDueNotWorse\n",
      "SeriousDlqin2yrs                        0.102261\n",
      "RevolvingUtilizationOfUnsecuredLines   -0.001048\n",
      "age                                    -0.057159\n",
      "NumberOfTime30-59DaysPastDueNotWorse    0.987005\n",
      "DebtRatio                              -0.007533\n",
      "MonthlyIncome                          -0.011116\n",
      "NumberOfOpenCreditLinesAndLoans        -0.071077\n",
      "NumberOfTimes90DaysLate                 0.992796\n",
      "NumberRealEstateLoansOrLines           -0.039722\n",
      "NumberOfTime60-89DaysPastDueNotWorse    1.000000\n",
      "NumberOfDependents                     -0.010922\n",
      "Name: NumberOfTime60-89DaysPastDueNotWorse, dtype: float64\n",
      "\n",
      "NumberOfDependents\n",
      "SeriousDlqin2yrs                        0.046048\n",
      "RevolvingUtilizationOfUnsecuredLines    0.001557\n",
      "age                                    -0.213303\n",
      "NumberOfTime30-59DaysPastDueNotWorse   -0.002680\n",
      "DebtRatio                              -0.040673\n",
      "MonthlyIncome                           0.062647\n",
      "NumberOfOpenCreditLinesAndLoans         0.065322\n",
      "NumberOfTimes90DaysLate                -0.010176\n",
      "NumberRealEstateLoansOrLines            0.124684\n",
      "NumberOfTime60-89DaysPastDueNotWorse   -0.010922\n",
      "NumberOfDependents                      1.000000\n",
      "Name: NumberOfDependents, dtype: float64\n",
      "\n"
     ]
    }
   ],
   "source": [
    "pl.explore_data(df)"
   ]
  },
  {
   "cell_type": "markdown",
   "metadata": {},
   "source": [
    "# Split data into test-train sets"
   ]
  },
  {
   "cell_type": "code",
   "execution_count": 4,
   "metadata": {
    "collapsed": false
   },
   "outputs": [],
   "source": [
    "cols = list(df.columns)\n",
    "features = [x for x in cols if x != OUTCOME_VAR]"
   ]
  },
  {
   "cell_type": "code",
   "execution_count": 5,
   "metadata": {
    "collapsed": false
   },
   "outputs": [],
   "source": [
    "X_train, X_test, y_train, y_test = pl.split_train_test(df, features, OUTCOME_VAR, .33)"
   ]
  },
  {
   "cell_type": "markdown",
   "metadata": {},
   "source": [
    "# Fill null values with means\n"
   ]
  },
  {
   "cell_type": "code",
   "execution_count": 6,
   "metadata": {
    "collapsed": true
   },
   "outputs": [],
   "source": [
    "v = pl.fill_train_na_mean(X_train)"
   ]
  },
  {
   "cell_type": "code",
   "execution_count": 7,
   "metadata": {
    "collapsed": false
   },
   "outputs": [],
   "source": [
    "pl.fill_test_na_mean(X_test,v)"
   ]
  },
  {
   "cell_type": "markdown",
   "metadata": {},
   "source": [
    "# Generate histograms"
   ]
  },
  {
   "cell_type": "code",
   "execution_count": 8,
   "metadata": {
    "collapsed": false
   },
   "outputs": [
    {
     "name": "stdout",
     "output_type": "stream",
     "text": [
      "Plotting RevolvingUtilizationOfUnsecuredLines\n",
      "Plotting age\n",
      "Plotting NumberOfTime30-59DaysPastDueNotWorse\n",
      "Plotting DebtRatio\n",
      "Plotting MonthlyIncome\n",
      "Plotting NumberOfOpenCreditLinesAndLoans\n",
      "Plotting NumberOfTimes90DaysLate\n",
      "Plotting NumberRealEstateLoansOrLines\n",
      "Plotting NumberOfTime60-89DaysPastDueNotWorse\n",
      "Plotting NumberOfDependents\n"
     ]
    }
   ],
   "source": [
    "for c in features:\n",
    "    pl.make_hist(X_train, c, 10)"
   ]
  },
  {
   "cell_type": "markdown",
   "metadata": {},
   "source": [
    "# Fit and test a bunch of classifiers and parameters"
   ]
  },
  {
   "cell_type": "code",
   "execution_count": 9,
   "metadata": {
    "collapsed": true
   },
   "outputs": [],
   "source": [
    "clfs,grid = pl.define_clfs_params()"
   ]
  },
  {
   "cell_type": "code",
   "execution_count": null,
   "metadata": {
    "collapsed": true
   },
   "outputs": [],
   "source": [
    "clfs_to_try = ['LR', 'DT', 'RF', 'SVM', 'KNN', 'AB']"
   ]
  },
  {
   "cell_type": "code",
   "execution_count": null,
   "metadata": {
    "collapsed": false
   },
   "outputs": [],
   "source": [
    "results = pl.try_models(clfs_to_try,clfs,grid, X_train, y_train, X_test, y_test)"
   ]
  },
  {
   "cell_type": "markdown",
   "metadata": {},
   "source": [
    "# Print out a metrics report"
   ]
  },
  {
   "cell_type": "code",
   "execution_count": null,
   "metadata": {
    "collapsed": false
   },
   "outputs": [],
   "source": [
    "pl.print_report(results)"
   ]
  },
  {
   "cell_type": "markdown",
   "metadata": {},
   "source": [
    "# Pull out best-performing model"
   ]
  },
  {
   "cell_type": "code",
   "execution_count": null,
   "metadata": {
    "collapsed": true
   },
   "outputs": [],
   "source": [
    "best_clf = results['DT']['Best Model']"
   ]
  },
  {
   "cell_type": "markdown",
   "metadata": {},
   "source": [
    "# Read in and fill test data"
   ]
  },
  {
   "cell_type": "code",
   "execution_count": null,
   "metadata": {
    "collapsed": true
   },
   "outputs": [],
   "source": [
    "final_df = pl.read_data('cs-test.csv', INDEX_COL)"
   ]
  },
  {
   "cell_type": "code",
   "execution_count": null,
   "metadata": {
    "collapsed": true
   },
   "outputs": [],
   "source": [
    "pl.fill_test_na_mean(final_df,v)"
   ]
  },
  {
   "cell_type": "markdown",
   "metadata": {},
   "source": [
    "# Predict outcomes for test data"
   ]
  },
  {
   "cell_type": "code",
   "execution_count": null,
   "metadata": {
    "collapsed": false
   },
   "outputs": [],
   "source": [
    "pl.predict(final_df, features, best_clf)"
   ]
  }
 ],
 "metadata": {
  "kernelspec": {
   "display_name": "Python 3",
   "language": "python",
   "name": "python3"
  },
  "language_info": {
   "codemirror_mode": {
    "name": "ipython",
    "version": 3
   },
   "file_extension": ".py",
   "mimetype": "text/x-python",
   "name": "python",
   "nbconvert_exporter": "python",
   "pygments_lexer": "ipython3",
   "version": "3.4.4"
  }
 },
 "nbformat": 4,
 "nbformat_minor": 0
}
